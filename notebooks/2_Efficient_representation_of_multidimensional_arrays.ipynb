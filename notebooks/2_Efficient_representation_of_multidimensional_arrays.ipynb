{
  "cells": [
    {
      "cell_type": "code",
      "execution_count": 1,
      "metadata": {
        "id": "ClQWhJonFoeP"
      },
      "outputs": [],
      "source": [
        "%load_ext autoreload\n",
        "%autoreload 2\n",
        "%matplotlib inline"
      ]
    },
    {
      "cell_type": "code",
      "source": [
        "!pip install hottbox"
      ],
      "metadata": {
        "id": "SuZ9ghgGF02a",
        "outputId": "01253284-127f-422b-9a82-00b5a4a256cf",
        "colab": {
          "base_uri": "https://localhost:8080/"
        }
      },
      "execution_count": 3,
      "outputs": [
        {
          "output_type": "stream",
          "name": "stdout",
          "text": [
            "Collecting hottbox\n",
            "  Downloading hottbox-0.3.2-py3-none-any.whl (113 kB)\n",
            "\u001b[2K     \u001b[90m━━━━━━━━━━━━━━━━━━━━━━━━━━━━━━━━━━━━━━━━\u001b[0m \u001b[32m113.6/113.6 kB\u001b[0m \u001b[31m1.7 MB/s\u001b[0m eta \u001b[36m0:00:00\u001b[0m\n",
            "\u001b[?25hRequirement already satisfied: numpy in /usr/local/lib/python3.10/dist-packages (from hottbox) (1.25.2)\n",
            "Requirement already satisfied: scipy in /usr/local/lib/python3.10/dist-packages (from hottbox) (1.11.4)\n",
            "Requirement already satisfied: pandas in /usr/local/lib/python3.10/dist-packages (from hottbox) (2.0.3)\n",
            "Requirement already satisfied: scikit-learn in /usr/local/lib/python3.10/dist-packages (from hottbox) (1.2.2)\n",
            "Requirement already satisfied: python-dateutil>=2.8.2 in /usr/local/lib/python3.10/dist-packages (from pandas->hottbox) (2.8.2)\n",
            "Requirement already satisfied: pytz>=2020.1 in /usr/local/lib/python3.10/dist-packages (from pandas->hottbox) (2023.4)\n",
            "Requirement already satisfied: tzdata>=2022.1 in /usr/local/lib/python3.10/dist-packages (from pandas->hottbox) (2024.1)\n",
            "Requirement already satisfied: joblib>=1.1.1 in /usr/local/lib/python3.10/dist-packages (from scikit-learn->hottbox) (1.3.2)\n",
            "Requirement already satisfied: threadpoolctl>=2.0.0 in /usr/local/lib/python3.10/dist-packages (from scikit-learn->hottbox) (3.4.0)\n",
            "Requirement already satisfied: six>=1.5 in /usr/local/lib/python3.10/dist-packages (from python-dateutil>=2.8.2->pandas->hottbox) (1.16.0)\n",
            "Installing collected packages: hottbox\n",
            "Successfully installed hottbox-0.3.2\n"
          ]
        }
      ]
    },
    {
      "cell_type": "code",
      "execution_count": 4,
      "metadata": {
        "id": "BU9S5N-wFoeR"
      },
      "outputs": [],
      "source": [
        "import numpy as np\n",
        "import matplotlib.pyplot as plt\n",
        "from hottbox.core import Tensor, TensorCPD, TensorTKD"
      ]
    },
    {
      "cell_type": "markdown",
      "metadata": {
        "toc-hr-collapsed": false,
        "id": "EcGBDER_FoeT"
      },
      "source": [
        "[Return to Table of Contents](./0_Table_of_contents.ipynb)"
      ]
    },
    {
      "cell_type": "markdown",
      "metadata": {
        "id": "0rFpLpHHFoeV"
      },
      "source": [
        "# Efficient representation of multidimensional arrays\n",
        "\n",
        "A tensor of order $N$ is said to be of **rank-1** if it can be represented as an outer product of $N$ vectors.\n",
        "\n",
        "The figure below illustrates an example of a rank-1 tensor $\\mathbf{\\underline{X}}$ and provides intuition on how to compute the operation of outer product:\n",
        "\n",
        "<img src=\"https://github.com/btarifi10/dpm-coursework/blob/master/notebooks/imgs/outerproduct.png?raw=1\" alt=\"Drawing\" style=\"width: 500px;\"/>\n"
      ]
    },
    {
      "cell_type": "markdown",
      "metadata": {
        "toc-hr-collapsed": false,
        "id": "uVQZNPJsFoeX"
      },
      "source": [
        "# Kruskal representation\n",
        "\n",
        "For a third order tensor or rank $R$ the Kruskal representation can be expressed as follows:\n",
        "\n",
        "$$\n",
        "\\mathbf{\\underline{X}} = \\sum_{r=1}^R \\mathbf{\\underline{X}}_r = \\sum_{r=1}^R \\lambda_{r} \\cdot \\mathbf{a}_r \\circ \\mathbf{b}_r \\circ \\mathbf{c}_r\n",
        "$$\n",
        "\n",
        "The vectors $\\mathbf{a}_r, \\mathbf{b}_r$ and $\\mathbf{c}_r$ are oftentime combined into the corresponding **factor matrices**:\n",
        "\n",
        "$$\n",
        "\\mathbf{A} = \\Big[ \\mathbf{a}_1 \\cdots \\mathbf{a}_R \\Big] \\quad\n",
        "\\mathbf{B} = \\Big[ \\mathbf{b}_1 \\cdots \\mathbf{b}_R \\Big] \\quad\n",
        "\\mathbf{C} = \\Big[ \\mathbf{c}_1 \\cdots \\mathbf{c}_R \\Big] \\quad\n",
        "$$\n",
        "\n",
        "Thus, if we employ the mode-$n$ product, the **Kruskal representation** takes the form:\n",
        "\n",
        "$$\n",
        "\\mathbf{\\underline{X}} = \\mathbf{\\underline{\\Lambda}} \\times_1 \\mathbf{A} \\times_2 \\mathbf{B} \\times_3 \\mathbf{C} = \\Big[\\mathbf{\\underline{\\Lambda}}; \\mathbf{A}, \\mathbf{B}, \\mathbf{C} \\Big]\n",
        "$$\n",
        "\n",
        "where the elements on the super-diagonal of the core tensor $\\mathbf{\\underline{\\Lambda}}$ are occupied by the values $\\lambda_r$ and all other entries are equal to zero. This can be visualised as shown on figure below:\n",
        "\n",
        "<img src=\"https://github.com/btarifi10/dpm-coursework/blob/master/notebooks/imgs/TensorCPD.png?raw=1\" alt=\"Drawing\" style=\"width: 500px;\"/>\n"
      ]
    },
    {
      "cell_type": "code",
      "execution_count": 5,
      "metadata": {
        "id": "eJZ2BhxuFoec",
        "outputId": "83f6ed68-5491-4a37-f9cf-a48894a83944",
        "colab": {
          "base_uri": "https://localhost:8080/"
        }
      },
      "outputs": [
        {
          "output_type": "stream",
          "name": "stdout",
          "text": [
            "Kruskal representation of a tensor with rank=(2,).\n",
            "Factor matrices represent properties: ['mode-0', 'mode-1', 'mode-2']\n",
            "With corresponding latent components described by (3, 4, 5) features respectively.\n"
          ]
        }
      ],
      "source": [
        "# Create factor matrices\n",
        "I, J, K = 3, 4, 5\n",
        "R = 2\n",
        "\n",
        "A = np.arange(I * R).reshape(I, R)\n",
        "B = np.arange(J * R).reshape(J, R)\n",
        "C = np.arange(K * R).reshape(K, R)\n",
        "\n",
        "# Create core values\n",
        "values = np.arange(R)\n",
        "\n",
        "# Create Kruskal representation\n",
        "tensor_cpd = TensorCPD(fmat=[A, B, C], core_values=values)\n",
        "\n",
        "# Result preview\n",
        "print(tensor_cpd)"
      ]
    },
    {
      "cell_type": "markdown",
      "metadata": {
        "id": "GbZH2aRcFoee"
      },
      "source": [
        "## **Assigment 1**\n",
        "\n",
        "1. What is the order of a tensor if its Kruskal representation consists of 5 factor matrices.\n",
        "\n",
        "2. What is the order of a tensor if its Kruskal representation consists of core tensor which has only 5 elements on the super-diagonal.\n",
        "\n",
        "3. For a 3-rd order tensor that consists of 500 elements, provide three different Kruskal representations.\n",
        "\n",
        "4. For a tensor that consits of 1000 elements, provide three Kruskal representations, each of which should have different number of factor matrices.\n",
        "\n",
        "5. For a 4-th order tensor that consists of 2401 elements, provide Kruskal representation if its core tensor consisting of 81 elements.\n"
      ]
    },
    {
      "cell_type": "markdown",
      "metadata": {
        "id": "hprtglHGFoeg"
      },
      "source": [
        "### Solution: Part 1"
      ]
    },
    {
      "cell_type": "code",
      "execution_count": 13,
      "metadata": {
        "id": "Fy98LzpvFoei",
        "outputId": "1694b03f-452c-4670-f940-21981a0a6915",
        "colab": {
          "base_uri": "https://localhost:8080/"
        }
      },
      "outputs": [
        {
          "output_type": "stream",
          "name": "stdout",
          "text": [
            "Order 5\n"
          ]
        }
      ],
      "source": [
        "answer_1_1 = \"Order 5\"  # use this variable for your answer\n",
        "\n",
        "print(answer_1_1)"
      ]
    },
    {
      "cell_type": "markdown",
      "metadata": {
        "id": "hPdQ12dvFoel"
      },
      "source": [
        "### Solution: Part 2"
      ]
    },
    {
      "cell_type": "code",
      "execution_count": 12,
      "metadata": {
        "id": "QIX-FlQJFoem",
        "outputId": "337db85b-86f2-4ded-bab5-e82bb4685da1",
        "colab": {
          "base_uri": "https://localhost:8080/"
        }
      },
      "outputs": [
        {
          "output_type": "stream",
          "name": "stdout",
          "text": [
            "The order of the tensor is independent of this, R can take on multiple values for the same order tensor\n"
          ]
        }
      ],
      "source": [
        "answer_1_2 = \"The order of the tensor is independent of this, R can take on multiple values for the same order tensor\"  # use this variable for your answer\n",
        "\n",
        "print(answer_1_2)"
      ]
    },
    {
      "cell_type": "markdown",
      "metadata": {
        "id": "HDYcroXCFoeo"
      },
      "source": [
        "### Solution: Part 3"
      ]
    },
    {
      "cell_type": "code",
      "execution_count": 9,
      "metadata": {
        "id": "HF5K92NWFoep",
        "outputId": "c216f286-d9a2-4193-9b13-29dadaedea02",
        "colab": {
          "base_uri": "https://localhost:8080/"
        }
      },
      "outputs": [
        {
          "output_type": "stream",
          "name": "stdout",
          "text": [
            "Kruskal representation of a tensor with rank=(2,).\n",
            "Factor matrices represent properties: ['mode-0', 'mode-1', 'mode-2']\n",
            "With corresponding latent components described by (25, 5, 4) features respectively.\n"
          ]
        }
      ],
      "source": [
        "# First representation\n",
        "# Create factor matrices\n",
        "I, J, K = 25, 5, 4\n",
        "R = 2\n",
        "\n",
        "A = np.arange(I * R).reshape(I, R)\n",
        "B = np.arange(J * R).reshape(J, R)\n",
        "C = np.arange(K * R).reshape(K, R)\n",
        "\n",
        "# Create core values\n",
        "values = np.arange(R)\n",
        "\n",
        "# Create Kruskal representation\n",
        "tensor_cpd = TensorCPD(fmat=[A, B, C], core_values=values)\n",
        "\n",
        "# Result preview\n",
        "print(tensor_cpd)"
      ]
    },
    {
      "cell_type": "code",
      "execution_count": 10,
      "metadata": {
        "id": "rGiFkiSzFoer",
        "outputId": "66506727-3e2c-4c93-efb6-b6d53b8acd5e",
        "colab": {
          "base_uri": "https://localhost:8080/"
        }
      },
      "outputs": [
        {
          "output_type": "stream",
          "name": "stdout",
          "text": [
            "Kruskal representation of a tensor with rank=(3,).\n",
            "Factor matrices represent properties: ['mode-0', 'mode-1', 'mode-2']\n",
            "With corresponding latent components described by (5, 10, 10) features respectively.\n"
          ]
        }
      ],
      "source": [
        "# Second representation\n",
        "# Create factor matrices\n",
        "I, J, K = 5, 10, 10\n",
        "R = 3\n",
        "\n",
        "A = np.arange(I * R).reshape(I, R)\n",
        "B = np.arange(J * R).reshape(J, R)\n",
        "C = np.arange(K * R).reshape(K, R)\n",
        "\n",
        "# Create core values\n",
        "values = np.arange(R)\n",
        "\n",
        "# Create Kruskal representation\n",
        "tensor_cpd = TensorCPD(fmat=[A, B, C], core_values=values)\n",
        "\n",
        "# Result preview\n",
        "print(tensor_cpd)"
      ]
    },
    {
      "cell_type": "code",
      "execution_count": 11,
      "metadata": {
        "id": "n4ZobJZCFoes",
        "outputId": "9aa44f14-6f8a-42fe-a182-79b18e6ee547",
        "colab": {
          "base_uri": "https://localhost:8080/"
        }
      },
      "outputs": [
        {
          "output_type": "stream",
          "name": "stdout",
          "text": [
            "Kruskal representation of a tensor with rank=(2,).\n",
            "Factor matrices represent properties: ['mode-0', 'mode-1', 'mode-2']\n",
            "With corresponding latent components described by (2, 5, 50) features respectively.\n"
          ]
        }
      ],
      "source": [
        "# Third representation\n",
        "I, J, K = 2, 5, 50\n",
        "R = 2\n",
        "\n",
        "A = np.arange(I * R).reshape(I, R)\n",
        "B = np.arange(J * R).reshape(J, R)\n",
        "C = np.arange(K * R).reshape(K, R)\n",
        "\n",
        "# Create core values\n",
        "values = np.arange(R)\n",
        "\n",
        "# Create Kruskal representation\n",
        "tensor_cpd = TensorCPD(fmat=[A, B, C], core_values=values)\n",
        "\n",
        "# Result preview\n",
        "print(tensor_cpd)"
      ]
    },
    {
      "cell_type": "markdown",
      "metadata": {
        "toc-hr-collapsed": false,
        "id": "c_6jmREBFoes"
      },
      "source": [
        "### Solution: Part 4"
      ]
    },
    {
      "cell_type": "code",
      "execution_count": 14,
      "metadata": {
        "id": "lT18j44sFoet",
        "outputId": "fce825a9-ec61-4f09-8fb3-b66e5a798f5c",
        "colab": {
          "base_uri": "https://localhost:8080/"
        }
      },
      "outputs": [
        {
          "output_type": "stream",
          "name": "stdout",
          "text": [
            "Kruskal representation of a tensor with rank=(2,).\n",
            "Factor matrices represent properties: ['mode-0', 'mode-1', 'mode-2']\n",
            "With corresponding latent components described by (40, 5, 5) features respectively.\n"
          ]
        }
      ],
      "source": [
        "# First representation\n",
        "I, J, K = 40, 5, 5\n",
        "R = 2\n",
        "\n",
        "A = np.arange(I * R).reshape(I, R)\n",
        "B = np.arange(J * R).reshape(J, R)\n",
        "C = np.arange(K * R).reshape(K, R)\n",
        "\n",
        "# Create core values\n",
        "values = np.arange(R)\n",
        "\n",
        "# Create Kruskal representation\n",
        "tensor_cpd = TensorCPD(fmat=[A, B, C], core_values=values)\n",
        "\n",
        "# Result preview\n",
        "print(tensor_cpd)"
      ]
    },
    {
      "cell_type": "code",
      "execution_count": 19,
      "metadata": {
        "id": "E9WLpbEIFoeu",
        "outputId": "a26f46f2-5d72-44d4-b0ea-98590f3b7dd5",
        "colab": {
          "base_uri": "https://localhost:8080/"
        }
      },
      "outputs": [
        {
          "output_type": "stream",
          "name": "stdout",
          "text": [
            "Kruskal representation of a tensor with rank=(10,).\n",
            "Factor matrices represent properties: ['mode-0', 'mode-1', 'mode-2', 'mode-3']\n",
            "With corresponding latent components described by (2, 4, 5, 25) features respectively.\n"
          ]
        }
      ],
      "source": [
        "# Second representation\n",
        "I, J, K, L = 2, 4, 5, 25\n",
        "R = 10\n",
        "\n",
        "A = np.arange(I * R).reshape(I, R)\n",
        "B = np.arange(J * R).reshape(J, R)\n",
        "C = np.arange(K * R).reshape(K, R)\n",
        "D = np.arange(L * R).reshape(L, R)\n",
        "\n",
        "# Create core values\n",
        "values = np.arange(R)\n",
        "\n",
        "# Create Kruskal representation\n",
        "tensor_cpd = TensorCPD(fmat=[A, B, C, D], core_values=values)\n",
        "\n",
        "# Result preview\n",
        "print(tensor_cpd)"
      ]
    },
    {
      "cell_type": "code",
      "execution_count": 22,
      "metadata": {
        "id": "UGSnM40aFoev",
        "outputId": "e6bf29f8-cd4f-4868-a6bd-03635d01f442",
        "colab": {
          "base_uri": "https://localhost:8080/"
        }
      },
      "outputs": [
        {
          "output_type": "stream",
          "name": "stdout",
          "text": [
            "Kruskal representation of a tensor with rank=(7,).\n",
            "Factor matrices represent properties: ['mode-0', 'mode-1', 'mode-2', 'mode-3', 'mode-4']\n",
            "With corresponding latent components described by (2, 2, 5, 10, 5) features respectively.\n"
          ]
        }
      ],
      "source": [
        "# Third representation\n",
        "I, J, K, L, M = 2, 2, 5, 10, 5\n",
        "R = 7\n",
        "\n",
        "A = np.arange(I * R).reshape(I, R)\n",
        "B = np.arange(J * R).reshape(J, R)\n",
        "C = np.arange(K * R).reshape(K, R)\n",
        "D = np.arange(L * R).reshape(L, R)\n",
        "E = np.arange(M * R).reshape(M, R)\n",
        "\n",
        "# Create core values\n",
        "values = np.arange(R)\n",
        "\n",
        "# Create Kruskal representation\n",
        "tensor_cpd = TensorCPD(fmat=[A, B, C, D, E], core_values=values)\n",
        "\n",
        "# Result preview\n",
        "print(tensor_cpd)"
      ]
    },
    {
      "cell_type": "markdown",
      "metadata": {
        "id": "bd5yOcIjFoev"
      },
      "source": [
        "### Solution: Part 5"
      ]
    },
    {
      "cell_type": "code",
      "execution_count": 25,
      "metadata": {
        "id": "M4TcSJH1Foex",
        "outputId": "839d641b-70e0-45d7-eaf6-50eefb58d317",
        "colab": {
          "base_uri": "https://localhost:8080/"
        }
      },
      "outputs": [
        {
          "output_type": "stream",
          "name": "stdout",
          "text": [
            "Kruskal representation of a tensor with rank=(3,).\n",
            "Factor matrices represent properties: ['mode-0', 'mode-1', 'mode-2', 'mode-3']\n",
            "With corresponding latent components described by (7, 7, 7, 7) features respectively.\n"
          ]
        }
      ],
      "source": [
        "# Provide Kruskal representation here\n",
        "I, J, K, L = 7, 7, 7, 7\n",
        "R = 3\n",
        "\n",
        "A = np.arange(I * R).reshape(I, R)\n",
        "B = np.arange(J * R).reshape(J, R)\n",
        "C = np.arange(K * R).reshape(K, R)\n",
        "D = np.arange(L * R).reshape(L, R)\n",
        "\n",
        "# Create core values\n",
        "values = np.arange(R)\n",
        "\n",
        "# Create Kruskal representation\n",
        "tensor_cpd = TensorCPD(fmat=[A, B, C, D], core_values=values)\n",
        "\n",
        "# Result preview\n",
        "print(tensor_cpd)"
      ]
    },
    {
      "cell_type": "markdown",
      "metadata": {
        "toc-hr-collapsed": false,
        "id": "wi-Mi00QFoex"
      },
      "source": [
        "# Tucker representation\n",
        "\n"
      ]
    },
    {
      "cell_type": "markdown",
      "metadata": {
        "id": "hTiQzGK1Foex"
      },
      "source": [
        "<img src=\"https://github.com/btarifi10/dpm-coursework/blob/master/notebooks/imgs/TensorTKD.png?raw=1\" alt=\"Drawing\" style=\"width: 600px;\"/>\n",
        "\n",
        "For a tensor $\\mathbf{\\underline{X}} \\in \\mathbb{R}^{I \\times J \\times K}$ illustrated above, the **Tucker form** represents the tensor in hand through a dense core tensor $\\mathbf{\\underline{G}}$ with multi-linear rank ($Q, R, P$) and a set of accompanying factor matrices $\\mathbf{A} \\in \\mathbb{R}^{I \\times Q}, \\mathbf{B} \\in \\mathbb{R}^{J \\times R}$ and $\\mathbf{C} \\in \\mathbb{R}^{K \\times P}$.\n",
        "\n",
        "$$\n",
        "\\mathbf{\\underline{X}} = \\sum_{q=1}^Q \\sum_{r=1}^R \\sum_{p=1}^P \\mathbf{\\underline{X}}_{qrp} = \\sum_{q=1}^Q \\sum_{r=1}^R \\sum_{p=1}^P g_{qrp} \\cdot \\mathbf{a}_q \\circ \\mathbf{b}_r \\circ \\mathbf{c}_p\n",
        "$$\n",
        "\n",
        "The Tucker form of a tensor is closely related to the Kruskal representation and can be expressed through a\n",
        "sequence of mode-$n$ products in a similar way, that is\n",
        "\n",
        "$$\n",
        "\\mathbf{\\underline{X}} = \\mathbf{\\underline{G}} \\times_1 \\mathbf{A} \\times_2 \\mathbf{B} \\times_3 \\mathbf{C} = \\Big[\\mathbf{\\underline{G}}; \\mathbf{A}, \\mathbf{B}, \\mathbf{C} \\Big]\n",
        "$$\n"
      ]
    },
    {
      "cell_type": "code",
      "execution_count": 27,
      "metadata": {
        "id": "wpD4zUv8Foex",
        "outputId": "de63003a-122e-4521-993d-95c5d4e00e3f",
        "colab": {
          "base_uri": "https://localhost:8080/"
        }
      },
      "outputs": [
        {
          "output_type": "stream",
          "name": "stdout",
          "text": [
            "Tucker representation of a tensor with multi-linear rank=(2, 3, 4).\n",
            "Factor matrices represent properties: ['mode-0', 'mode-1', 'mode-2']\n",
            "With corresponding latent components described by (5, 6, 7) features respectively.\n"
          ]
        }
      ],
      "source": [
        "# Create factor matrices\n",
        "I, J, K = 5, 6, 7  # define shape of the tensor in full form\n",
        "Q, R, P = 2, 3, 4  # define multi-linear rank of the tensor in Tucker form\n",
        "\n",
        "A = np.arange(I * Q).reshape(I, Q)\n",
        "B = np.arange(J * R).reshape(J, R)\n",
        "C = np.arange(K * P).reshape(K, P)\n",
        "\n",
        "# Create core values\n",
        "values = np.arange(Q * R * P).reshape(Q, R, P)\n",
        "\n",
        "# Create Tucker representation\n",
        "tensor_tkd = TensorTKD(fmat=[A, B, C], core_values=values)\n",
        "\n",
        "# Result preview\n",
        "print(tensor_tkd)"
      ]
    },
    {
      "cell_type": "markdown",
      "metadata": {
        "id": "xiDFy5zcFoey"
      },
      "source": [
        "## **Assigment 2**\n",
        "\n",
        "1. Core tensor of a Tucker representation consists of 1848 elements. Explain what tensor order should a tensor have to able to be represented in such form.\n",
        "\n",
        "2. For a 4-th order tensor that consists of 1000 elements, provide three different Tucker representations.\n",
        "\n",
        "3. For a 3-rd order tensor that consists of 500 elements, provide three different Tucker representations given that its core tensor consists of 42 elements.\n",
        "\n",
        "4. Provide an intuition behind the main difference between the Tucker and Kruskal representations.\n"
      ]
    },
    {
      "cell_type": "markdown",
      "metadata": {
        "id": "41LEzzHIFoez"
      },
      "source": [
        "### Solution: Part 1"
      ]
    },
    {
      "cell_type": "code",
      "execution_count": 28,
      "metadata": {
        "id": "IxrptBn5Foez",
        "outputId": "2df0e35c-9f26-461a-c275-2b863eea1114",
        "colab": {
          "base_uri": "https://localhost:8080/"
        }
      },
      "outputs": [
        {
          "output_type": "stream",
          "name": "stdout",
          "text": [
            "The prime factors of 1848 are (2, 2, 2, 3, 7, 11). As such, it can be a tensor of anywhere between order 1 and order 6, but the order 1 and 2 are trivial.\n"
          ]
        }
      ],
      "source": [
        "answer_2_1 = \"The prime factors of 1848 are (2, 2, 2, 3, 7, 11). As such, it can be a tensor of anywhere between order 1 and order 6, but the order 1 and 2 are trivial.\"  # use this variable for your answer\n",
        "\n",
        "print(answer_2_1)"
      ]
    },
    {
      "cell_type": "markdown",
      "metadata": {
        "id": "hstKJwg0Foe0"
      },
      "source": [
        "### Solution: Part 2"
      ]
    },
    {
      "cell_type": "code",
      "execution_count": 31,
      "metadata": {
        "id": "sfQ_hJm3Foe0",
        "outputId": "a9733182-4f17-497a-ecb7-b4e8a4681d9a",
        "colab": {
          "base_uri": "https://localhost:8080/"
        }
      },
      "outputs": [
        {
          "output_type": "stream",
          "name": "stdout",
          "text": [
            "Tucker representation of a tensor with multi-linear rank=(2, 3, 4, 5).\n",
            "Factor matrices represent properties: ['mode-0', 'mode-1', 'mode-2', 'mode-3']\n",
            "With corresponding latent components described by (2, 4, 5, 25) features respectively.\n"
          ]
        }
      ],
      "source": [
        "# First representation\n",
        "I, J, K, L = 2, 4, 5, 25   # define shape of the tensor in full form\n",
        "Q, R, P, S = 2, 3, 4, 5  # define multi-linear rank of the tensor in Tucker form\n",
        "\n",
        "A = np.arange(I * Q).reshape(I, Q)\n",
        "B = np.arange(J * R).reshape(J, R)\n",
        "C = np.arange(K * P).reshape(K, P)\n",
        "D = np.arange(L * S).reshape(L, S)\n",
        "\n",
        "# Create core values\n",
        "values = np.arange(Q * R * P * S).reshape(Q, R, P, S)\n",
        "\n",
        "# Create Tucker representation\n",
        "tensor_tkd = TensorTKD(fmat=[A, B, C, D], core_values=values)\n",
        "\n",
        "# Result preview\n",
        "print(tensor_tkd)"
      ]
    },
    {
      "cell_type": "code",
      "execution_count": 32,
      "metadata": {
        "id": "VVfDN1w_Foe0",
        "outputId": "c6d00bac-9cee-484d-aba2-1819b51337c2",
        "colab": {
          "base_uri": "https://localhost:8080/"
        }
      },
      "outputs": [
        {
          "output_type": "stream",
          "name": "stdout",
          "text": [
            "Tucker representation of a tensor with multi-linear rank=(7, 2, 4, 3).\n",
            "Factor matrices represent properties: ['mode-0', 'mode-1', 'mode-2', 'mode-3']\n",
            "With corresponding latent components described by (2, 2, 5, 50) features respectively.\n"
          ]
        }
      ],
      "source": [
        "# Second representation\n",
        "I, J, K, L = 2, 2, 5, 50   # define shape of the tensor in full form\n",
        "Q, R, P, S = 7, 2, 4, 3  # define multi-linear rank of the tensor in Tucker form\n",
        "\n",
        "A = np.arange(I * Q).reshape(I, Q)\n",
        "B = np.arange(J * R).reshape(J, R)\n",
        "C = np.arange(K * P).reshape(K, P)\n",
        "D = np.arange(L * S).reshape(L, S)\n",
        "\n",
        "# Create core values\n",
        "values = np.arange(Q * R * P * S).reshape(Q, R, P, S)\n",
        "\n",
        "# Create Tucker representation\n",
        "tensor_tkd = TensorTKD(fmat=[A, B, C, D], core_values=values)\n",
        "\n",
        "# Result preview\n",
        "print(tensor_tkd)"
      ]
    },
    {
      "cell_type": "code",
      "execution_count": 33,
      "metadata": {
        "id": "YTIc7tJlFoe1",
        "outputId": "26f8460c-ebf8-47ba-9fa2-53ca6c04053a",
        "colab": {
          "base_uri": "https://localhost:8080/"
        }
      },
      "outputs": [
        {
          "output_type": "stream",
          "name": "stdout",
          "text": [
            "Tucker representation of a tensor with multi-linear rank=(2, 2, 5, 7).\n",
            "Factor matrices represent properties: ['mode-0', 'mode-1', 'mode-2', 'mode-3']\n",
            "With corresponding latent components described by (2, 10, 10, 5) features respectively.\n"
          ]
        }
      ],
      "source": [
        "# Third representation\n",
        "I, J, K, L = 2, 10, 10, 5   # define shape of the tensor in full form\n",
        "Q, R, P, S = 2, 2, 5, 7  # define multi-linear rank of the tensor in Tucker form\n",
        "\n",
        "A = np.arange(I * Q).reshape(I, Q)\n",
        "B = np.arange(J * R).reshape(J, R)\n",
        "C = np.arange(K * P).reshape(K, P)\n",
        "D = np.arange(L * S).reshape(L, S)\n",
        "\n",
        "# Create core values\n",
        "values = np.arange(Q * R * P * S).reshape(Q, R, P, S)\n",
        "\n",
        "# Create Tucker representation\n",
        "tensor_tkd = TensorTKD(fmat=[A, B, C, D], core_values=values)\n",
        "\n",
        "# Result preview\n",
        "print(tensor_tkd)"
      ]
    },
    {
      "cell_type": "markdown",
      "metadata": {
        "id": "mV8WUwC4Foe1"
      },
      "source": [
        "### Solution: Part 3"
      ]
    },
    {
      "cell_type": "code",
      "execution_count": 34,
      "metadata": {
        "id": "gh3uxg9mFoe2",
        "outputId": "7568e1bc-1918-4b2b-c89a-a0c1d33faa16",
        "colab": {
          "base_uri": "https://localhost:8080/"
        }
      },
      "outputs": [
        {
          "output_type": "stream",
          "name": "stdout",
          "text": [
            "Tucker representation of a tensor with multi-linear rank=(2, 3, 7).\n",
            "Factor matrices represent properties: ['mode-0', 'mode-1', 'mode-2']\n",
            "With corresponding latent components described by (2, 5, 50) features respectively.\n"
          ]
        }
      ],
      "source": [
        "# First representation\n",
        "I, J, K = 2, 5, 50  # define shape of the tensor in full form\n",
        "Q, R, P = 2, 3, 7  # define multi-linear rank of the tensor in Tucker form\n",
        "\n",
        "A = np.arange(I * Q).reshape(I, Q)\n",
        "B = np.arange(J * R).reshape(J, R)\n",
        "C = np.arange(K * P).reshape(K, P)\n",
        "\n",
        "# Create core values\n",
        "values = np.arange(Q * R * P).reshape(Q, R, P)\n",
        "\n",
        "# Create Tucker representation\n",
        "tensor_tkd = TensorTKD(fmat=[A, B, C], core_values=values)\n",
        "\n",
        "# Result preview\n",
        "print(tensor_tkd)"
      ]
    },
    {
      "cell_type": "code",
      "execution_count": 35,
      "metadata": {
        "id": "3Dh1-_zgFoe3",
        "outputId": "38548faa-ce84-42f0-b76a-2ffda3a73355",
        "colab": {
          "base_uri": "https://localhost:8080/"
        }
      },
      "outputs": [
        {
          "output_type": "stream",
          "name": "stdout",
          "text": [
            "Tucker representation of a tensor with multi-linear rank=(3, 2, 7).\n",
            "Factor matrices represent properties: ['mode-0', 'mode-1', 'mode-2']\n",
            "With corresponding latent components described by (4, 5, 25) features respectively.\n"
          ]
        }
      ],
      "source": [
        "# Second representation\n",
        "I, J, K = 4, 5, 25  # define shape of the tensor in full form\n",
        "Q, R, P = 3, 2, 7  # define multi-linear rank of the tensor in Tucker form\n",
        "\n",
        "A = np.arange(I * Q).reshape(I, Q)\n",
        "B = np.arange(J * R).reshape(J, R)\n",
        "C = np.arange(K * P).reshape(K, P)\n",
        "\n",
        "# Create core values\n",
        "values = np.arange(Q * R * P).reshape(Q, R, P)\n",
        "\n",
        "# Create Tucker representation\n",
        "tensor_tkd = TensorTKD(fmat=[A, B, C], core_values=values)\n",
        "\n",
        "# Result preview\n",
        "print(tensor_tkd)"
      ]
    },
    {
      "cell_type": "code",
      "execution_count": 36,
      "metadata": {
        "id": "SJ4crZM0Foe3",
        "outputId": "c55037f4-595d-4a2e-b3df-c02df6ad8b59",
        "colab": {
          "base_uri": "https://localhost:8080/"
        }
      },
      "outputs": [
        {
          "output_type": "stream",
          "name": "stdout",
          "text": [
            "Tucker representation of a tensor with multi-linear rank=(7, 3, 2).\n",
            "Factor matrices represent properties: ['mode-0', 'mode-1', 'mode-2']\n",
            "With corresponding latent components described by (5, 10, 10) features respectively.\n"
          ]
        }
      ],
      "source": [
        "# Third representation\n",
        "I, J, K = 5, 10, 10  # define shape of the tensor in full form\n",
        "Q, R, P = 7, 3, 2  # define multi-linear rank of the tensor in Tucker form\n",
        "\n",
        "A = np.arange(I * Q).reshape(I, Q)\n",
        "B = np.arange(J * R).reshape(J, R)\n",
        "C = np.arange(K * P).reshape(K, P)\n",
        "\n",
        "# Create core values\n",
        "values = np.arange(Q * R * P).reshape(Q, R, P)\n",
        "\n",
        "# Create Tucker representation\n",
        "tensor_tkd = TensorTKD(fmat=[A, B, C], core_values=values)\n",
        "\n",
        "# Result preview\n",
        "print(tensor_tkd)"
      ]
    },
    {
      "cell_type": "markdown",
      "metadata": {
        "id": "NaxQHkSfFoe3"
      },
      "source": [
        "### Solution: Part 4"
      ]
    },
    {
      "cell_type": "code",
      "execution_count": 37,
      "metadata": {
        "id": "J3rux3iXFoe3",
        "outputId": "7326e860-ff2d-443d-a0e2-2b3c92124ee4",
        "colab": {
          "base_uri": "https://localhost:8080/"
        }
      },
      "outputs": [
        {
          "output_type": "stream",
          "name": "stdout",
          "text": [
            " \n",
            "  The difference lies in the core matrix: for the Krusckal representation, the\n",
            "  core matrix consists only of diagonal elements which then requires the factor\n",
            "  matrices to be more dense. However, in the Tucker representation the core matrix\n",
            "  is dense and can vary in dimensions, leading to different ranks across modes and\n",
            "  a dense core.\n",
            "\n"
          ]
        }
      ],
      "source": [
        "answer_2_4 = \"\"\"\n",
        "  The difference lies in the core matrix: for the Krusckal representation, the\n",
        "  core matrix consists only of diagonal elements which then requires the factor\n",
        "  matrices to be more dense. However, in the Tucker representation the core matrix\n",
        "  is dense and can vary in dimensions, leading to different ranks across modes and\n",
        "  a dense core.\n",
        "\"\"\"\n",
        "\n",
        "print(answer_2_4)"
      ]
    }
  ],
  "metadata": {
    "kernelspec": {
      "display_name": "dpm-coursework",
      "language": "python",
      "name": "dpm-coursework"
    },
    "language_info": {
      "codemirror_mode": {
        "name": "ipython",
        "version": 3
      },
      "file_extension": ".py",
      "mimetype": "text/x-python",
      "name": "python",
      "nbconvert_exporter": "python",
      "pygments_lexer": "ipython3",
      "version": "3.6.5"
    },
    "toc-autonumbering": false,
    "toc-showcode": false,
    "colab": {
      "provenance": []
    }
  },
  "nbformat": 4,
  "nbformat_minor": 0
}