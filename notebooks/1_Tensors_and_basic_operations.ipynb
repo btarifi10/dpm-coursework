{
  "cells": [
    {
      "cell_type": "code",
      "execution_count": 1,
      "metadata": {
        "id": "2ZFL7jL_dQmj"
      },
      "outputs": [],
      "source": [
        "%load_ext autoreload\n",
        "%autoreload 2\n",
        "%matplotlib inline"
      ]
    },
    {
      "cell_type": "code",
      "source": [
        "!pip install hottbox"
      ],
      "metadata": {
        "colab": {
          "base_uri": "https://localhost:8080/"
        },
        "id": "ec63cEHtdeSL",
        "outputId": "86f33cb1-c8ac-4abe-add1-eb889cdae177"
      },
      "execution_count": 3,
      "outputs": [
        {
          "output_type": "stream",
          "name": "stdout",
          "text": [
            "Collecting hottbox\n",
            "  Downloading hottbox-0.3.2-py3-none-any.whl (113 kB)\n",
            "\u001b[2K     \u001b[90m━━━━━━━━━━━━━━━━━━━━━━━━━━━━━━━━━━━━━━━━\u001b[0m \u001b[32m113.6/113.6 kB\u001b[0m \u001b[31m2.7 MB/s\u001b[0m eta \u001b[36m0:00:00\u001b[0m\n",
            "\u001b[?25hRequirement already satisfied: numpy in /usr/local/lib/python3.10/dist-packages (from hottbox) (1.25.2)\n",
            "Requirement already satisfied: scipy in /usr/local/lib/python3.10/dist-packages (from hottbox) (1.11.4)\n",
            "Requirement already satisfied: pandas in /usr/local/lib/python3.10/dist-packages (from hottbox) (2.0.3)\n",
            "Requirement already satisfied: scikit-learn in /usr/local/lib/python3.10/dist-packages (from hottbox) (1.2.2)\n",
            "Requirement already satisfied: python-dateutil>=2.8.2 in /usr/local/lib/python3.10/dist-packages (from pandas->hottbox) (2.8.2)\n",
            "Requirement already satisfied: pytz>=2020.1 in /usr/local/lib/python3.10/dist-packages (from pandas->hottbox) (2023.4)\n",
            "Requirement already satisfied: tzdata>=2022.1 in /usr/local/lib/python3.10/dist-packages (from pandas->hottbox) (2024.1)\n",
            "Requirement already satisfied: joblib>=1.1.1 in /usr/local/lib/python3.10/dist-packages (from scikit-learn->hottbox) (1.3.2)\n",
            "Requirement already satisfied: threadpoolctl>=2.0.0 in /usr/local/lib/python3.10/dist-packages (from scikit-learn->hottbox) (3.4.0)\n",
            "Requirement already satisfied: six>=1.5 in /usr/local/lib/python3.10/dist-packages (from python-dateutil>=2.8.2->pandas->hottbox) (1.16.0)\n",
            "Installing collected packages: hottbox\n",
            "Successfully installed hottbox-0.3.2\n"
          ]
        }
      ]
    },
    {
      "cell_type": "code",
      "execution_count": 4,
      "metadata": {
        "id": "HZRr-h7idQmo"
      },
      "outputs": [],
      "source": [
        "import numpy as np\n",
        "import matplotlib.pyplot as plt\n",
        "from hottbox.core import Tensor"
      ]
    },
    {
      "cell_type": "markdown",
      "metadata": {
        "toc-hr-collapsed": false,
        "id": "bkCLWZphdQmp"
      },
      "source": [
        "[Return to Table of Contents](./0_Table_of_contents.ipynb)"
      ]
    },
    {
      "cell_type": "markdown",
      "metadata": {
        "toc-hr-collapsed": false,
        "id": "LCFS6KDodQmt"
      },
      "source": [
        "# Tensors and basic operations"
      ]
    },
    {
      "cell_type": "markdown",
      "metadata": {
        "toc-hr-collapsed": true,
        "id": "bffqRPyTdQmu"
      },
      "source": [
        "<img src=\"https://github.com/btarifi10/dpm-coursework/blob/master/notebooks/imgs/tensors_dogs.jpg?raw=1\" alt=\"Drawing\" style=\"width: 500px;\"/>\n",
        "\n",
        "A tensor is a multi-dimenaional array of data where each dimension is conventionally referred to as the **mode**. Tensor order is defined by the number of its modes which is equivivalent to the number of indices required to identify a particular entry of a multi-dimensional array. For ease of visualisation and compact notation, we consider a third order tensor $\\mathbf{\\underline{X}} \\in \\mathbb{R}^{I \\times J \\times K}$. Thus, an element of such a tensor, $\\mathbf{\\underline{X}} \\in \\mathbb{R}^{I \\times J \\times K}$, can be written in a general form as:\n",
        "\n",
        "$$ x_{ijk} = \\mathbf{\\underline{X}}[i, j, k]$$\n",
        "\n",
        "> **Note:** In order to be consistent with Python indexing, count of modes and elements within starts from zeros.\n",
        "\n",
        "Creation of a tensor starts with a formation of a multidimensional array of data."
      ]
    },
    {
      "cell_type": "code",
      "execution_count": 6,
      "metadata": {
        "colab": {
          "base_uri": "https://localhost:8080/"
        },
        "id": "yyAvs_ubdQmx",
        "outputId": "5abe55f0-0974-4a8a-906c-d0b28d0db064"
      },
      "outputs": [
        {
          "output_type": "stream",
          "name": "stdout",
          "text": [
            "This tensor is of order 3 and consists of 24 elements.\n",
            "Sizes and names of its modes are (2, 3, 4) and ['mode-0', 'mode-1', 'mode-2'] respectively.\n"
          ]
        },
        {
          "output_type": "execute_result",
          "data": {
            "text/plain": [
              "array([[[ 0,  1,  2,  3],\n",
              "        [ 4,  5,  6,  7],\n",
              "        [ 8,  9, 10, 11]],\n",
              "\n",
              "       [[12, 13, 14, 15],\n",
              "        [16, 17, 18, 19],\n",
              "        [20, 21, 22, 23]]])"
            ]
          },
          "metadata": {},
          "execution_count": 6
        }
      ],
      "source": [
        "# Create 3-d array of data\n",
        "array_3d = np.arange(24).reshape((2, 3, 4))\n",
        "\n",
        "# Create tensor\n",
        "tensor = Tensor(array_3d)\n",
        "\n",
        "# Result preview\n",
        "print(tensor)\n",
        "tensor.data"
      ]
    },
    {
      "cell_type": "markdown",
      "metadata": {
        "toc-hr-collapsed": true,
        "id": "0fMrddWTdQm0"
      },
      "source": [
        "## **Assigment 1**\n",
        "\n",
        "1. Create a tensor of order 5 (of any shape) and with all its values equal to 5. Then, calculate its Frobenious norm.\n",
        "2. Construct several tensors of orders varying from 3 to 20, with the size of each dimension equal to 2. Plot the relation between an order of a tensor and the number of its elements.\n",
        "3. Construct several tensors of order 3 with the size of each dimension varying from 3 to 15. Plot the relation between the size of dimensions of a tensor and the number of its elements.\n",
        "4. Analyse and compare the so obtained graphs."
      ]
    },
    {
      "cell_type": "markdown",
      "metadata": {
        "id": "eTsoeumydQm1"
      },
      "source": [
        "### Solution: Part 1"
      ]
    },
    {
      "cell_type": "code",
      "execution_count": 10,
      "metadata": {
        "colab": {
          "base_uri": "https://localhost:8080/"
        },
        "id": "1cYkPO93dQm4",
        "outputId": "cb8db72a-3492-4a93-98fe-2b82362ed68c"
      },
      "outputs": [
        {
          "output_type": "stream",
          "name": "stdout",
          "text": [
            "This tensor is of order 5 and consists of 336 elements.\n",
            "Sizes and names of its modes are (2, 4, 3, 7, 2) and ['mode-0', 'mode-1', 'mode-2', 'mode-3', 'mode-4'] respectively.\n"
          ]
        }
      ],
      "source": [
        "# Create a tensor\n",
        "array_3d = (5*np.ones((336, 1))).reshape((2, 4, 3, 7, 2))\n",
        "\n",
        "# Create tensor\n",
        "tensor = Tensor(array_3d)\n",
        "\n",
        "# Result preview\n",
        "print(tensor)"
      ]
    },
    {
      "cell_type": "code",
      "execution_count": 29,
      "metadata": {
        "colab": {
          "base_uri": "https://localhost:8080/"
        },
        "id": "lMOXh-dfdQm8",
        "outputId": "e9cd22cf-ac87-4a62-ec13-7353dc2d9ced"
      },
      "outputs": [
        {
          "output_type": "stream",
          "name": "stdout",
          "text": [
            "The frobenius norm for the tensor is 91.6515138991168\n"
          ]
        }
      ],
      "source": [
        "# Calculate Frobenious norm\n",
        "shape = tensor.shape\n",
        "\n",
        "frobenius_norm = (np.sum(np.power(np.abs(tensor.data.flatten()), 2)))**(1/2)\n",
        "print(f'The frobenius norm for the tensor is {frobenius_norm}')\n"
      ]
    },
    {
      "cell_type": "markdown",
      "metadata": {
        "id": "-T4Kz6SHdQm-"
      },
      "source": [
        "### Solution: Part 2"
      ]
    },
    {
      "cell_type": "code",
      "execution_count": 31,
      "metadata": {
        "id": "g-iiZT5NdQnA"
      },
      "outputs": [],
      "source": [
        "# Create tensors and collect information\n",
        "orders = range(3, 21)\n",
        "\n",
        "numels = []\n",
        "for i, order in enumerate(orders):\n",
        "  t = Tensor(np.ones((2**order)).reshape(order*(2,)))\n",
        "  numels.append(t.size)"
      ]
    },
    {
      "cell_type": "code",
      "execution_count": 34,
      "metadata": {
        "colab": {
          "base_uri": "https://localhost:8080/",
          "height": 472
        },
        "id": "GeYJ_NIjdQnB",
        "outputId": "1840b732-3a01-4978-aff7-ac01c7374b9b"
      },
      "outputs": [
        {
          "output_type": "display_data",
          "data": {
            "text/plain": [
              "<Figure size 640x480 with 1 Axes>"
            ],
            "image/png": "[encoded data removed]"
          },
          "metadata": {}
        }
      ],
      "source": [
        "# Plot results\n",
        "plt.plot(orders, numels)\n",
        "plt.grid()\n",
        "plt.xlabel(\"Order\")\n",
        "plt.ylabel(\"Number of elements\")\n",
        "plt.xlim([3, 20])\n",
        "plt.title(\"Number of elements vs Order of tensor (dimensions=2)\")\n",
        "plt.show()"
      ]
    },
    {
      "cell_type": "markdown",
      "metadata": {
        "id": "NmCr0MkGdQnC"
      },
      "source": [
        "### Solution: Part 3"
      ]
    },
    {
      "cell_type": "code",
      "execution_count": 36,
      "metadata": {
        "id": "kC3WZwt2dQnD"
      },
      "outputs": [],
      "source": [
        "# Create tensors and collect information\n",
        "sizes = range(3, 16)\n",
        "\n",
        "numels = []\n",
        "for i, s in enumerate(sizes):\n",
        "  t = Tensor(np.ones((s**3)).reshape(3*(s,)))\n",
        "  numels.append(t.size)"
      ]
    },
    {
      "cell_type": "code",
      "execution_count": 37,
      "metadata": {
        "colab": {
          "base_uri": "https://localhost:8080/",
          "height": 472
        },
        "id": "kTNip6TSdQnE",
        "outputId": "3254565c-d238-43ad-d0be-109648179ba4"
      },
      "outputs": [
        {
          "output_type": "display_data",
          "data": {
            "text/plain": [
              "<Figure size 640x480 with 1 Axes>"
            ],
            "image/png": "[encoded data removed]"
          },
          "metadata": {}
        }
      ],
      "source": [
        "# Plot results\n",
        "plt.plot(sizes, numels)\n",
        "plt.grid()\n",
        "plt.xlabel(\"Size of Dimension\")\n",
        "plt.ylabel(\"Number of elements\")\n",
        "plt.xlim([3, 15])\n",
        "plt.title(\"Number of elements vs size of dimension (order=3)\")\n",
        "plt.show()"
      ]
    },
    {
      "cell_type": "markdown",
      "metadata": {
        "id": "tyEqlvV_dQnF"
      },
      "source": [
        "### Solution: Part 4"
      ]
    },
    {
      "cell_type": "markdown",
      "metadata": {
        "id": "XNfW5tngdQnH"
      },
      "source": [
        "\n",
        "The above graphs illustrate the difference between increasing the dimensions of a tensor versus increasing the order. With the order-3 tensor, increasing the number of dimensions has a polynomial trend -- the number of elemenmts is function of $d^3$ where $d$ is the size of the dimension. However, increasing the order has a much more drastic effect and follows an exponential increase in number of elements. This makes high order tensors computationally expensive but usually quite sparse due to the massive space of elements.\n",
        "\n"
      ]
    },
    {
      "cell_type": "markdown",
      "metadata": {
        "toc-hr-collapsed": false,
        "id": "MJnEX94rdQnH"
      },
      "source": [
        "# Most common tensor substructures\n",
        "<img src=\"https://github.com/btarifi10/dpm-coursework/blob/master/notebooks/imgs/tensor_substructures.png?raw=1\" alt=\"Drawing\" style=\"width: 500px;\"/>\n",
        "\n",
        "1. A **fiber** is a vector obtained by fixing all but one of the indices, e.g.  $\\mathbf{\\underline{X}}[i,:,k]$ is the mode-2 fiber $\\mathbf{\\underline{X}}$ (usually refered to as row fiber).\n",
        "\n",
        "1. Fixing all but two of the indices yields a matrix called a **slice** of a tensor, e.g. $\\mathbf{\\underline{X}}[:,:,k]$ is the mode-[1,2] slice (usually refered to as the frontal slice).\n",
        "\n",
        "**Note:** The same principles and definitions can be applied to a tensor of an arbitrarily large order. In addition, you can obtain a **subtensor** by fixing at least three indices and letting the remaining ones vary."
      ]
    },
    {
      "cell_type": "code",
      "execution_count": 38,
      "metadata": {
        "colab": {
          "base_uri": "https://localhost:8080/"
        },
        "id": "2W7WJZzhdQnI",
        "outputId": "4023a393-9aab-434c-d04b-418ca074e2b6"
      },
      "outputs": [
        {
          "output_type": "execute_result",
          "data": {
            "text/plain": [
              "array([[[5., 5.],\n",
              "        [5., 5.],\n",
              "        [5., 5.],\n",
              "        [5., 5.],\n",
              "        [5., 5.],\n",
              "        [5., 5.],\n",
              "        [5., 5.]],\n",
              "\n",
              "       [[5., 5.],\n",
              "        [5., 5.],\n",
              "        [5., 5.],\n",
              "        [5., 5.],\n",
              "        [5., 5.],\n",
              "        [5., 5.],\n",
              "        [5., 5.]],\n",
              "\n",
              "       [[5., 5.],\n",
              "        [5., 5.],\n",
              "        [5., 5.],\n",
              "        [5., 5.],\n",
              "        [5., 5.],\n",
              "        [5., 5.],\n",
              "        [5., 5.]]])"
            ]
          },
          "metadata": {},
          "execution_count": 38
        }
      ],
      "source": [
        "# Mode-2 fiber\n",
        "tensor.data[0,1,:]"
      ]
    },
    {
      "cell_type": "code",
      "execution_count": 39,
      "metadata": {
        "colab": {
          "base_uri": "https://localhost:8080/"
        },
        "id": "Wdp0BsT9dQnK",
        "outputId": "113b5378-6723-44bc-8ca6-c33f9f94602f"
      },
      "outputs": [
        {
          "output_type": "execute_result",
          "data": {
            "text/plain": [
              "array([[[[5., 5.],\n",
              "         [5., 5.],\n",
              "         [5., 5.],\n",
              "         [5., 5.],\n",
              "         [5., 5.],\n",
              "         [5., 5.],\n",
              "         [5., 5.]],\n",
              "\n",
              "        [[5., 5.],\n",
              "         [5., 5.],\n",
              "         [5., 5.],\n",
              "         [5., 5.],\n",
              "         [5., 5.],\n",
              "         [5., 5.],\n",
              "         [5., 5.]],\n",
              "\n",
              "        [[5., 5.],\n",
              "         [5., 5.],\n",
              "         [5., 5.],\n",
              "         [5., 5.],\n",
              "         [5., 5.],\n",
              "         [5., 5.],\n",
              "         [5., 5.]]],\n",
              "\n",
              "\n",
              "       [[[5., 5.],\n",
              "         [5., 5.],\n",
              "         [5., 5.],\n",
              "         [5., 5.],\n",
              "         [5., 5.],\n",
              "         [5., 5.],\n",
              "         [5., 5.]],\n",
              "\n",
              "        [[5., 5.],\n",
              "         [5., 5.],\n",
              "         [5., 5.],\n",
              "         [5., 5.],\n",
              "         [5., 5.],\n",
              "         [5., 5.],\n",
              "         [5., 5.]],\n",
              "\n",
              "        [[5., 5.],\n",
              "         [5., 5.],\n",
              "         [5., 5.],\n",
              "         [5., 5.],\n",
              "         [5., 5.],\n",
              "         [5., 5.],\n",
              "         [5., 5.]]],\n",
              "\n",
              "\n",
              "       [[[5., 5.],\n",
              "         [5., 5.],\n",
              "         [5., 5.],\n",
              "         [5., 5.],\n",
              "         [5., 5.],\n",
              "         [5., 5.],\n",
              "         [5., 5.]],\n",
              "\n",
              "        [[5., 5.],\n",
              "         [5., 5.],\n",
              "         [5., 5.],\n",
              "         [5., 5.],\n",
              "         [5., 5.],\n",
              "         [5., 5.],\n",
              "         [5., 5.]],\n",
              "\n",
              "        [[5., 5.],\n",
              "         [5., 5.],\n",
              "         [5., 5.],\n",
              "         [5., 5.],\n",
              "         [5., 5.],\n",
              "         [5., 5.],\n",
              "         [5., 5.]]],\n",
              "\n",
              "\n",
              "       [[[5., 5.],\n",
              "         [5., 5.],\n",
              "         [5., 5.],\n",
              "         [5., 5.],\n",
              "         [5., 5.],\n",
              "         [5., 5.],\n",
              "         [5., 5.]],\n",
              "\n",
              "        [[5., 5.],\n",
              "         [5., 5.],\n",
              "         [5., 5.],\n",
              "         [5., 5.],\n",
              "         [5., 5.],\n",
              "         [5., 5.],\n",
              "         [5., 5.]],\n",
              "\n",
              "        [[5., 5.],\n",
              "         [5., 5.],\n",
              "         [5., 5.],\n",
              "         [5., 5.],\n",
              "         [5., 5.],\n",
              "         [5., 5.],\n",
              "         [5., 5.]]]])"
            ]
          },
          "metadata": {},
          "execution_count": 39
        }
      ],
      "source": [
        "# Frontal slice\n",
        "tensor.data[0,:,:]"
      ]
    },
    {
      "cell_type": "markdown",
      "metadata": {
        "toc-hr-collapsed": true,
        "id": "kw3gh9jndQnL"
      },
      "source": [
        "## **Assigment 2**\n",
        "\n",
        "1. Create a tensor of order 4 which consists of 81 elements and display all its horizontal slices and any five row fibers.\n",
        "2. Create a tensor of order 3 and shape `(4,2,5)`, where the values of each consequent frontal slice are doubled."
      ]
    },
    {
      "cell_type": "markdown",
      "metadata": {
        "id": "P_YFMLJqdQnM"
      },
      "source": [
        "### Solution: Part 1"
      ]
    },
    {
      "cell_type": "code",
      "execution_count": 54,
      "metadata": {
        "colab": {
          "base_uri": "https://localhost:8080/"
        },
        "id": "hFeW-iJWdQnN",
        "outputId": "e6626fb4-52d9-45a2-b52b-d0479efb80d2"
      },
      "outputs": [
        {
          "output_type": "stream",
          "name": "stdout",
          "text": [
            "This tensor is of order 4 and consists of 81 elements.\n",
            "Sizes and names of its modes are (3, 3, 3, 3) and ['mode-0', 'mode-1', 'mode-2', 'mode-3'] respectively.\n"
          ]
        }
      ],
      "source": [
        "# Create a tensor of order 4\n",
        "tensor = Tensor(np.random.randint(1, 10, size=(3**4,1)).reshape(4*(3,)))\n",
        "print(tensor)"
      ]
    },
    {
      "cell_type": "code",
      "execution_count": 55,
      "metadata": {
        "colab": {
          "base_uri": "https://localhost:8080/"
        },
        "id": "4hOPzOAddQnO",
        "outputId": "96b45309-1bcf-466d-a656-7657d4c3ef83"
      },
      "outputs": [
        {
          "output_type": "stream",
          "name": "stdout",
          "text": [
            "Horizontal slices:\n",
            "[[4 6 2]\n",
            " [1 8 5]\n",
            " [9 1 4]]\n",
            "[[3 7 8]\n",
            " [8 2 5]\n",
            " [4 8 1]]\n",
            "[[2 1 9]\n",
            " [4 5 3]\n",
            " [3 7 6]]\n",
            "[[8 4 9]\n",
            " [4 1 2]\n",
            " [1 2 8]]\n",
            "[[2 9 9]\n",
            " [3 5 4]\n",
            " [3 6 3]]\n",
            "[[4 7 3]\n",
            " [9 1 4]\n",
            " [3 6 6]]\n",
            "[[5 4 2]\n",
            " [2 3 9]\n",
            " [7 2 4]]\n",
            "[[7 5 7]\n",
            " [4 3 8]\n",
            " [4 4 2]]\n",
            "[[7 3 3]\n",
            " [3 3 1]\n",
            " [2 6 8]]\n"
          ]
        }
      ],
      "source": [
        "# Display slices\n",
        "print(\"Horizontal slices:\")\n",
        "for i in range(0, 3):\n",
        "  for l in range(0, 3):\n",
        "    print(tensor.data[i, :, :, l])"
      ]
    },
    {
      "cell_type": "code",
      "execution_count": 56,
      "metadata": {
        "colab": {
          "base_uri": "https://localhost:8080/"
        },
        "id": "zTazFULPdQnQ",
        "outputId": "d1e6c82b-ca6f-43b2-b5b0-8e3382a3bd7c"
      },
      "outputs": [
        {
          "output_type": "stream",
          "name": "stdout",
          "text": [
            "Fibers:\n",
            "[4 1 9]\n",
            "[2 3 3]\n",
            "[6 8 1]\n",
            "[3 3 6]\n",
            "[3 1 8]\n"
          ]
        }
      ],
      "source": [
        "# Display fibers\n",
        "print(\"Fibers:\")\n",
        "print(tensor.data[0, :, 0, 0])\n",
        "print(tensor.data[1, :, 0, 1])\n",
        "print(tensor.data[0, :, 1, 0])\n",
        "print(tensor.data[2, :, 1, 2])\n",
        "print(tensor.data[2, :, 2, 2])"
      ]
    },
    {
      "cell_type": "markdown",
      "metadata": {
        "id": "Tw0OPu7edQnR"
      },
      "source": [
        "### Solution: Part 2"
      ]
    },
    {
      "cell_type": "code",
      "execution_count": 66,
      "metadata": {
        "colab": {
          "base_uri": "https://localhost:8080/"
        },
        "id": "BX3imQLjdQnS",
        "outputId": "2098c1f6-ad2f-4903-ea7e-078ecf5871dd"
      },
      "outputs": [
        {
          "output_type": "stream",
          "name": "stdout",
          "text": [
            "This tensor is of order 3 and consists of 40 elements.\n",
            "Sizes and names of its modes are (4, 2, 5) and ['mode-0', 'mode-1', 'mode-2'] respectively.\n",
            "[[1 3]\n",
            " [7 5]\n",
            " [8 6]\n",
            " [5 2]]\n",
            "[[ 2  6]\n",
            " [14 10]\n",
            " [16 12]\n",
            " [10  4]]\n",
            "[[ 4 12]\n",
            " [28 20]\n",
            " [32 24]\n",
            " [20  8]]\n",
            "[[ 8 24]\n",
            " [56 40]\n",
            " [64 48]\n",
            " [40 16]]\n",
            "[[ 16  48]\n",
            " [112  80]\n",
            " [128  96]\n",
            " [ 80  32]]\n"
          ]
        }
      ],
      "source": [
        "# Create a tensor of order 3\n",
        "tensor = Tensor(np.random.randint(1, 10, size=(4*2*5,1)).reshape((4, 2, 5)))\n",
        "print(tensor)\n",
        "\n",
        "for k in range(1, 5):\n",
        "  tensor[:, :, k] = 2*tensor[:, :, k-1]\n",
        "\n",
        "for k in range(0, 5):\n",
        "  print(tensor[:, :, k])"
      ]
    },
    {
      "cell_type": "markdown",
      "metadata": {
        "toc-hr-collapsed": false,
        "id": "JFmH14HGdQnS"
      },
      "source": [
        "# Unfolding\n",
        "\n",
        "Conventionally, unfolding is considered to be a process of element mapping from a tensor to a matrix. In other words, it arranges the mode-$n$ fibers of a tensor to be the matrix columns. Thus, the mode-$n$ unfolding is denoted as:\n",
        "\n",
        "$$\\mathbf{\\underline{A}} \\xrightarrow{n} \\mathbf{A}_{(n)}$$\n",
        "\n",
        "Thus, this operations requires to specify a mode along which a tensor will be unfolded. For a third order tensor, a visual representation of such operation is as following\n",
        "\n",
        "<img src=\"https://github.com/btarifi10/dpm-coursework/blob/master/notebooks/imgs/unfolding.png?raw=1\" alt=\"Drawing\" style=\"width: 600px;\"/>\n",
        "\n",
        "In `hottbox` this functionality is available through the corresponding methods of the `Tensor` object, for instance:"
      ]
    },
    {
      "cell_type": "code",
      "execution_count": 75,
      "metadata": {
        "colab": {
          "base_uri": "https://localhost:8080/"
        },
        "id": "Uxk_iusJdQnS",
        "outputId": "6354bf29-ea46-4dd7-ab86-3b0a8c99012d"
      },
      "outputs": [
        {
          "output_type": "stream",
          "name": "stdout",
          "text": [
            "This tensor is of order 2 and consists of 24 elements.\n",
            "Sizes and names of its modes are (2, 12) and ['mode-0', 'mode-1_mode-2'] respectively.\n"
          ]
        },
        {
          "output_type": "execute_result",
          "data": {
            "text/plain": [
              "array([[ 0,  1,  2,  3,  4,  5,  6,  7,  8,  9, 10, 11],\n",
              "       [12, 13, 14, 15, 16, 17, 18, 19, 20, 21, 22, 23]])"
            ]
          },
          "metadata": {},
          "execution_count": 75
        }
      ],
      "source": [
        "# Create 3-d array of data\n",
        "array_3d = np.arange(24).reshape((2, 3, 4))\n",
        "\n",
        "# Create tensor\n",
        "tensor = Tensor(array_3d)\n",
        "\n",
        "# Unfolding of a tensor\n",
        "tensor.unfold(mode=0)\n",
        "\n",
        "# Result preview\n",
        "print(tensor)\n",
        "tensor.data"
      ]
    },
    {
      "cell_type": "markdown",
      "metadata": {
        "toc-hr-collapsed": true,
        "id": "vHkqsNbFdQnT"
      },
      "source": [
        "## **Assigment 3**\n",
        "\n",
        "1. Create a tensor, $\\mathbf{\\underline{A}}$, of order 4, in such a way that its version unfolded along the second mode would have sizes `(5,72)`, that is $\\mathbf{A}_{(n)} \\in  \\mathbb{R}^{5 \\times 72}$. Validate your results by displaying the unfolded tensor."
      ]
    },
    {
      "cell_type": "markdown",
      "metadata": {
        "id": "lxpfvaq_dQnU"
      },
      "source": [
        "### Solution : Part 1"
      ]
    },
    {
      "cell_type": "code",
      "execution_count": 73,
      "metadata": {
        "colab": {
          "base_uri": "https://localhost:8080/"
        },
        "id": "O53k_eENdQnV",
        "outputId": "19a1ac27-b5e6-45ec-f53d-34f1191b96ab"
      },
      "outputs": [
        {
          "output_type": "stream",
          "name": "stdout",
          "text": [
            "This tensor is of order 2 and consists of 360 elements.\n",
            "Sizes and names of its modes are (5, 72) and ['mode-1', 'mode-0_mode-2_mode-3'] respectively.\n"
          ]
        },
        {
          "output_type": "execute_result",
          "data": {
            "text/plain": [
              "array([[  0,   1,   2,   3,   4,   5,   6,   7,   8,   9,  10,  11,  12,\n",
              "         13,  14,  15,  16,  17,  18,  19,  20,  21,  22,  23, 120, 121,\n",
              "        122, 123, 124, 125, 126, 127, 128, 129, 130, 131, 132, 133, 134,\n",
              "        135, 136, 137, 138, 139, 140, 141, 142, 143, 240, 241, 242, 243,\n",
              "        244, 245, 246, 247, 248, 249, 250, 251, 252, 253, 254, 255, 256,\n",
              "        257, 258, 259, 260, 261, 262, 263],\n",
              "       [ 24,  25,  26,  27,  28,  29,  30,  31,  32,  33,  34,  35,  36,\n",
              "         37,  38,  39,  40,  41,  42,  43,  44,  45,  46,  47, 144, 145,\n",
              "        146, 147, 148, 149, 150, 151, 152, 153, 154, 155, 156, 157, 158,\n",
              "        159, 160, 161, 162, 163, 164, 165, 166, 167, 264, 265, 266, 267,\n",
              "        268, 269, 270, 271, 272, 273, 274, 275, 276, 277, 278, 279, 280,\n",
              "        281, 282, 283, 284, 285, 286, 287],\n",
              "       [ 48,  49,  50,  51,  52,  53,  54,  55,  56,  57,  58,  59,  60,\n",
              "         61,  62,  63,  64,  65,  66,  67,  68,  69,  70,  71, 168, 169,\n",
              "        170, 171, 172, 173, 174, 175, 176, 177, 178, 179, 180, 181, 182,\n",
              "        183, 184, 185, 186, 187, 188, 189, 190, 191, 288, 289, 290, 291,\n",
              "        292, 293, 294, 295, 296, 297, 298, 299, 300, 301, 302, 303, 304,\n",
              "        305, 306, 307, 308, 309, 310, 311],\n",
              "       [ 72,  73,  74,  75,  76,  77,  78,  79,  80,  81,  82,  83,  84,\n",
              "         85,  86,  87,  88,  89,  90,  91,  92,  93,  94,  95, 192, 193,\n",
              "        194, 195, 196, 197, 198, 199, 200, 201, 202, 203, 204, 205, 206,\n",
              "        207, 208, 209, 210, 211, 212, 213, 214, 215, 312, 313, 314, 315,\n",
              "        316, 317, 318, 319, 320, 321, 322, 323, 324, 325, 326, 327, 328,\n",
              "        329, 330, 331, 332, 333, 334, 335],\n",
              "       [ 96,  97,  98,  99, 100, 101, 102, 103, 104, 105, 106, 107, 108,\n",
              "        109, 110, 111, 112, 113, 114, 115, 116, 117, 118, 119, 216, 217,\n",
              "        218, 219, 220, 221, 222, 223, 224, 225, 226, 227, 228, 229, 230,\n",
              "        231, 232, 233, 234, 235, 236, 237, 238, 239, 336, 337, 338, 339,\n",
              "        340, 341, 342, 343, 344, 345, 346, 347, 348, 349, 350, 351, 352,\n",
              "        353, 354, 355, 356, 357, 358, 359]])"
            ]
          },
          "metadata": {},
          "execution_count": 73
        }
      ],
      "source": [
        "# Create a tensor\n",
        "array = np.arange(360).reshape((3, 5, 4, 6))\n",
        "\n",
        "# Create tensor\n",
        "tensor = Tensor(array)\n",
        "\n",
        "tensor.unfold(mode=1) # assuming second mode is mode-1 since first mode is mode-0"
      ]
    },
    {
      "cell_type": "code",
      "execution_count": 74,
      "metadata": {
        "colab": {
          "base_uri": "https://localhost:8080/"
        },
        "id": "RCmazvdadQnX",
        "outputId": "76b16bcd-79d9-4578-82d8-a1d2e2378db3"
      },
      "outputs": [
        {
          "output_type": "stream",
          "name": "stdout",
          "text": [
            "This tensor is of order 2 and consists of 360 elements.\n",
            "Sizes and names of its modes are (5, 72) and ['mode-1', 'mode-0_mode-2_mode-3'] respectively.\n"
          ]
        },
        {
          "output_type": "execute_result",
          "data": {
            "text/plain": [
              "array([[  0,   1,   2,   3,   4,   5,   6,   7,   8,   9,  10,  11,  12,\n",
              "         13,  14,  15,  16,  17,  18,  19,  20,  21,  22,  23, 120, 121,\n",
              "        122, 123, 124, 125, 126, 127, 128, 129, 130, 131, 132, 133, 134,\n",
              "        135, 136, 137, 138, 139, 140, 141, 142, 143, 240, 241, 242, 243,\n",
              "        244, 245, 246, 247, 248, 249, 250, 251, 252, 253, 254, 255, 256,\n",
              "        257, 258, 259, 260, 261, 262, 263],\n",
              "       [ 24,  25,  26,  27,  28,  29,  30,  31,  32,  33,  34,  35,  36,\n",
              "         37,  38,  39,  40,  41,  42,  43,  44,  45,  46,  47, 144, 145,\n",
              "        146, 147, 148, 149, 150, 151, 152, 153, 154, 155, 156, 157, 158,\n",
              "        159, 160, 161, 162, 163, 164, 165, 166, 167, 264, 265, 266, 267,\n",
              "        268, 269, 270, 271, 272, 273, 274, 275, 276, 277, 278, 279, 280,\n",
              "        281, 282, 283, 284, 285, 286, 287],\n",
              "       [ 48,  49,  50,  51,  52,  53,  54,  55,  56,  57,  58,  59,  60,\n",
              "         61,  62,  63,  64,  65,  66,  67,  68,  69,  70,  71, 168, 169,\n",
              "        170, 171, 172, 173, 174, 175, 176, 177, 178, 179, 180, 181, 182,\n",
              "        183, 184, 185, 186, 187, 188, 189, 190, 191, 288, 289, 290, 291,\n",
              "        292, 293, 294, 295, 296, 297, 298, 299, 300, 301, 302, 303, 304,\n",
              "        305, 306, 307, 308, 309, 310, 311],\n",
              "       [ 72,  73,  74,  75,  76,  77,  78,  79,  80,  81,  82,  83,  84,\n",
              "         85,  86,  87,  88,  89,  90,  91,  92,  93,  94,  95, 192, 193,\n",
              "        194, 195, 196, 197, 198, 199, 200, 201, 202, 203, 204, 205, 206,\n",
              "        207, 208, 209, 210, 211, 212, 213, 214, 215, 312, 313, 314, 315,\n",
              "        316, 317, 318, 319, 320, 321, 322, 323, 324, 325, 326, 327, 328,\n",
              "        329, 330, 331, 332, 333, 334, 335],\n",
              "       [ 96,  97,  98,  99, 100, 101, 102, 103, 104, 105, 106, 107, 108,\n",
              "        109, 110, 111, 112, 113, 114, 115, 116, 117, 118, 119, 216, 217,\n",
              "        218, 219, 220, 221, 222, 223, 224, 225, 226, 227, 228, 229, 230,\n",
              "        231, 232, 233, 234, 235, 236, 237, 238, 239, 336, 337, 338, 339,\n",
              "        340, 341, 342, 343, 344, 345, 346, 347, 348, 349, 350, 351, 352,\n",
              "        353, 354, 355, 356, 357, 358, 359]])"
            ]
          },
          "metadata": {},
          "execution_count": 74
        }
      ],
      "source": [
        "# Display unfolded version\n",
        "print(tensor)\n",
        "tensor.data"
      ]
    },
    {
      "cell_type": "markdown",
      "metadata": {
        "toc-hr-collapsed": false,
        "id": "arjyTTdMdQnZ"
      },
      "source": [
        "# Mode-n product\n",
        "<img src=\"https://github.com/btarifi10/dpm-coursework/blob/master/notebooks/imgs/mode_n_product.png?raw=1\" alt=\"Drawing\" style=\"width: 600px;\"/>\n",
        "\n",
        "The mode-$n$ product is a multiplication of a tensor  by a matrix along the $n^{th}$ mode of a tensor. This essentially means that each mode-$n$ fiber should be multiplied by this matrix. Mathematically, this can be expressed as:\n",
        "\n",
        "$$\\mathbf{\\underline{X}} \\times_n \\mathbf{A} = \\mathbf{\\underline{Y}} \\quad \\Leftrightarrow  \\quad \\mathbf{Y}_{(n)} = \\mathbf{A} \\mathbf{X}_{(n)}  $$"
      ]
    },
    {
      "cell_type": "code",
      "execution_count": 76,
      "metadata": {
        "colab": {
          "base_uri": "https://localhost:8080/"
        },
        "id": "tM2P2rf5dQnZ",
        "outputId": "121d08b8-0107-4090-a799-9583a1f9e6f9"
      },
      "outputs": [
        {
          "output_type": "stream",
          "name": "stdout",
          "text": [
            "This tensor is of order 3 and consists of 40 elements.\n",
            "Sizes and names of its modes are (2, 5, 4) and ['mode-0', 'mode-1', 'mode-2'] respectively.\n"
          ]
        },
        {
          "output_type": "execute_result",
          "data": {
            "text/plain": [
              "array([[ 20,  23,  26,  29,  56,  59,  62,  65],\n",
              "       [ 56,  68,  80,  92, 200, 212, 224, 236],\n",
              "       [ 92, 113, 134, 155, 344, 365, 386, 407],\n",
              "       [128, 158, 188, 218, 488, 518, 548, 578],\n",
              "       [164, 203, 242, 281, 632, 671, 710, 749]])"
            ]
          },
          "metadata": {},
          "execution_count": 76
        }
      ],
      "source": [
        "I, J, K = 2, 3, 4\n",
        "J_new = 5\n",
        "\n",
        "# Create tensor\n",
        "array_3d = np.arange(I * J * K).reshape(I, J ,K)\n",
        "X = Tensor(array_3d)\n",
        "\n",
        "# Create matrix\n",
        "A = np.arange(J_new * J).reshape(J_new, J)\n",
        "\n",
        "# Performs Mode-n product\n",
        "Y = X.mode_n_product(A, mode=1, inplace=False)\n",
        "\n",
        "# Preview of resulting tensor\n",
        "print(Y)\n",
        "\n",
        "# Preview of its unfolded version\n",
        "Y.unfold(mode=1, inplace=False).data"
      ]
    },
    {
      "cell_type": "markdown",
      "metadata": {
        "toc-hr-collapsed": true,
        "id": "tUvrCKmBdQna"
      },
      "source": [
        "## **Assignment 4**\n",
        "\n",
        "1. Perform the mode-$n$ product of a 3-rd order tensor, $\\mathbf{\\underline{X}}$, with a matrix, $\\mathbf{A} \\in  \\mathbb{R}^{5 \\times 4}$, provided that the resulting tensor, $\\mathbf{\\underline{Y}}$, consists of `100` elements. Validate your results.\n",
        "\n",
        "> **Note:** You are encouraged to experiment with the optional parameter `inplace` and to investigate its effect on the result."
      ]
    },
    {
      "cell_type": "markdown",
      "metadata": {
        "id": "qBnotTwrdQnc"
      },
      "source": [
        "### Solution: Part 1"
      ]
    },
    {
      "cell_type": "code",
      "execution_count": 87,
      "metadata": {
        "colab": {
          "base_uri": "https://localhost:8080/"
        },
        "id": "Q4eB13MHdQnd",
        "outputId": "90daac5d-40fe-4db6-887c-a3fe6a8fdd89"
      },
      "outputs": [
        {
          "output_type": "stream",
          "name": "stdout",
          "text": [
            "This tensor is of order 3 and consists of 80 elements.\n",
            "Sizes and names of its modes are (4, 5, 4) and ['mode-0', 'mode-1', 'mode-2'] respectively.\n"
          ]
        }
      ],
      "source": [
        "I, J, K = 4, 5, 4\n",
        "\n",
        "\n",
        "# Create tensor\n",
        "array_3d = np.arange(I * J * K).reshape(I, J ,K)\n",
        "X = Tensor(array_3d)\n",
        "\n",
        "print(X)"
      ]
    },
    {
      "cell_type": "code",
      "execution_count": 88,
      "metadata": {
        "colab": {
          "base_uri": "https://localhost:8080/"
        },
        "id": "Einem3NTdQne",
        "outputId": "9fb4e3aa-97c2-449c-f746-bf01aa79fc0f"
      },
      "outputs": [
        {
          "output_type": "stream",
          "name": "stdout",
          "text": [
            "[[ 0  1  2  3]\n",
            " [ 4  5  6  7]\n",
            " [ 8  9 10 11]\n",
            " [12 13 14 15]\n",
            " [16 17 18 19]]\n"
          ]
        }
      ],
      "source": [
        "# Create matrix\n",
        "K_new = 5\n",
        "A = np.arange(K_new * K).reshape(K_new, K)\n",
        "\n",
        "print(A)"
      ]
    },
    {
      "cell_type": "code",
      "execution_count": 89,
      "metadata": {
        "colab": {
          "base_uri": "https://localhost:8080/"
        },
        "id": "roV2uc-SdQnf",
        "outputId": "d8818531-1563-4bc6-819a-298f73575b6b"
      },
      "outputs": [
        {
          "output_type": "stream",
          "name": "stdout",
          "text": [
            "This tensor is of order 3 and consists of 100 elements.\n",
            "Sizes and names of its modes are (4, 5, 5) and ['mode-0', 'mode-1', 'mode-2'] respectively.\n"
          ]
        }
      ],
      "source": [
        "# Perform mode-n product\n",
        "Y = X.mode_n_product(A, mode=2, inplace=False)\n",
        "\n",
        "# Preview of resulting tensor\n",
        "print(Y)"
      ]
    },
    {
      "cell_type": "code",
      "execution_count": 90,
      "metadata": {
        "colab": {
          "base_uri": "https://localhost:8080/"
        },
        "id": "Ffiimi-8dQng",
        "outputId": "c188ba75-bfaf-4e95-8b09-153d5b010559"
      },
      "outputs": [
        {
          "output_type": "execute_result",
          "data": {
            "text/plain": [
              "array([[  14,   38,   62,   86,  110,  134,  478,  822, 1166, 1510,  254,\n",
              "         918, 1582, 2246, 2910,  374, 1358, 2342, 3326, 4310],\n",
              "       [  38,  126,  214,  302,  390,  158,  566,  974, 1382, 1790,  278,\n",
              "        1006, 1734, 2462, 3190,  398, 1446, 2494, 3542, 4590],\n",
              "       [  62,  214,  366,  518,  670,  182,  654, 1126, 1598, 2070,  302,\n",
              "        1094, 1886, 2678, 3470,  422, 1534, 2646, 3758, 4870],\n",
              "       [  86,  302,  518,  734,  950,  206,  742, 1278, 1814, 2350,  326,\n",
              "        1182, 2038, 2894, 3750,  446, 1622, 2798, 3974, 5150],\n",
              "       [ 110,  390,  670,  950, 1230,  230,  830, 1430, 2030, 2630,  350,\n",
              "        1270, 2190, 3110, 4030,  470, 1710, 2950, 4190, 5430]])"
            ]
          },
          "metadata": {},
          "execution_count": 90
        }
      ],
      "source": [
        "# Validate equivalence between the left and right hand side\n",
        "Y.unfold(mode=1, inplace=False).data"
      ]
    },
    {
      "cell_type": "code",
      "source": [
        "X.mode_n_product(A, mode=2, inplace=True)\n",
        "\n",
        "X.unfold(mode=1, inplace=False).data"
      ],
      "metadata": {
        "colab": {
          "base_uri": "https://localhost:8080/"
        },
        "id": "fdmdUYv8-eoy",
        "outputId": "23240c55-b22d-4b45-ed47-be03562067d2"
      },
      "execution_count": 91,
      "outputs": [
        {
          "output_type": "execute_result",
          "data": {
            "text/plain": [
              "array([[  14,   38,   62,   86,  110,  134,  478,  822, 1166, 1510,  254,\n",
              "         918, 1582, 2246, 2910,  374, 1358, 2342, 3326, 4310],\n",
              "       [  38,  126,  214,  302,  390,  158,  566,  974, 1382, 1790,  278,\n",
              "        1006, 1734, 2462, 3190,  398, 1446, 2494, 3542, 4590],\n",
              "       [  62,  214,  366,  518,  670,  182,  654, 1126, 1598, 2070,  302,\n",
              "        1094, 1886, 2678, 3470,  422, 1534, 2646, 3758, 4870],\n",
              "       [  86,  302,  518,  734,  950,  206,  742, 1278, 1814, 2350,  326,\n",
              "        1182, 2038, 2894, 3750,  446, 1622, 2798, 3974, 5150],\n",
              "       [ 110,  390,  670,  950, 1230,  230,  830, 1430, 2030, 2630,  350,\n",
              "        1270, 2190, 3110, 4030,  470, 1710, 2950, 4190, 5430]])"
            ]
          },
          "metadata": {},
          "execution_count": 91
        }
      ]
    },
    {
      "cell_type": "markdown",
      "metadata": {
        "id": "DxMXHXptdQng"
      },
      "source": [
        "# Properties of mode-n product\n",
        "\n",
        "1. For distinct modes in a series of multiplications, the order of the multiplication is irrelevent:\n",
        "\n",
        "  $$ \\mathbf{\\underline{X}} \\times_n \\mathbf{A} \\times_m \\mathbf{B} = \\mathbf{\\underline{X}} \\times_m \\mathbf{B} \\times_n \\mathbf{A} \\quad (m \\neq n) $$\n",
        "\n",
        "1. However, this does not hold if the modes are the same :\n",
        "\n",
        "  $$ \\mathbf{\\underline{X}} \\times_n \\mathbf{A} \\times_n \\mathbf{B} = \\mathbf{\\underline{X}} \\times_n (\\mathbf{B}\\mathbf{A}) $$"
      ]
    },
    {
      "cell_type": "markdown",
      "metadata": {
        "toc-hr-collapsed": true,
        "id": "4q9hSDGJdQnh"
      },
      "source": [
        "## **Assignment 5**\n",
        "\n",
        "1. Validate both of the above properties empirically\n",
        "2. Prove the second property analytically\n",
        "\n",
        "> **Note:** Be aware of consequences of the optional parameter `inplace` (its default value is set to `True`)."
      ]
    },
    {
      "cell_type": "markdown",
      "metadata": {
        "id": "12MPp22UdQni"
      },
      "source": [
        "### Solution: Part 1"
      ]
    },
    {
      "cell_type": "code",
      "execution_count": 95,
      "metadata": {
        "colab": {
          "base_uri": "https://localhost:8080/"
        },
        "id": "MRQqlifmdQnj",
        "outputId": "77f3ffcc-4c57-40fa-ed0a-f50ae887a7b8"
      },
      "outputs": [
        {
          "output_type": "stream",
          "name": "stdout",
          "text": [
            "This tensor is of order 3 and consists of 24 elements.\n",
            "Sizes and names of its modes are (2, 3, 4) and ['mode-0', 'mode-1', 'mode-2'] respectively.\n"
          ]
        }
      ],
      "source": [
        "# Create tensor\n",
        "X = Tensor(np.arange(24).reshape((2, 3, 4)))\n",
        "print(X)"
      ]
    },
    {
      "cell_type": "code",
      "execution_count": 100,
      "metadata": {
        "id": "6RZB9tntdQnj"
      },
      "outputs": [],
      "source": [
        "# Create matrices\n",
        "A = np.arange(10).reshape(5, 2)\n",
        "B1 = np.arange(12).reshape(4, 3)\n",
        "B2 = np.arange(15).reshape(3, 5)"
      ]
    },
    {
      "cell_type": "code",
      "execution_count": 101,
      "metadata": {
        "colab": {
          "base_uri": "https://localhost:8080/"
        },
        "id": "fbjEtuBpdQnk",
        "outputId": "84d24a4a-ebbb-4d8d-cd6d-2374a05737c4"
      },
      "outputs": [
        {
          "output_type": "stream",
          "name": "stdout",
          "text": [
            "This tensor is of order 3 and consists of 80 elements.\n",
            "Sizes and names of its modes are (5, 4, 4) and ['mode-0', 'mode-1', 'mode-2'] respectively.\n",
            "[[[  56   59   62   65]\n",
            "  [ 200  212  224  236]\n",
            "  [ 344  365  386  407]\n",
            "  [ 488  518  548  578]]\n",
            "\n",
            " [[ 208  223  238  253]\n",
            "  [ 712  772  832  892]\n",
            "  [1216 1321 1426 1531]\n",
            "  [1720 1870 2020 2170]]\n",
            "\n",
            " [[ 360  387  414  441]\n",
            "  [1224 1332 1440 1548]\n",
            "  [2088 2277 2466 2655]\n",
            "  [2952 3222 3492 3762]]\n",
            "\n",
            " [[ 512  551  590  629]\n",
            "  [1736 1892 2048 2204]\n",
            "  [2960 3233 3506 3779]\n",
            "  [4184 4574 4964 5354]]\n",
            "\n",
            " [[ 664  715  766  817]\n",
            "  [2248 2452 2656 2860]\n",
            "  [3832 4189 4546 4903]\n",
            "  [5416 5926 6436 6946]]]\n",
            "This tensor is of order 3 and consists of 80 elements.\n",
            "Sizes and names of its modes are (5, 4, 4) and ['mode-0', 'mode-1', 'mode-2'] respectively.\n",
            "[[[  56   59   62   65]\n",
            "  [ 200  212  224  236]\n",
            "  [ 344  365  386  407]\n",
            "  [ 488  518  548  578]]\n",
            "\n",
            " [[ 208  223  238  253]\n",
            "  [ 712  772  832  892]\n",
            "  [1216 1321 1426 1531]\n",
            "  [1720 1870 2020 2170]]\n",
            "\n",
            " [[ 360  387  414  441]\n",
            "  [1224 1332 1440 1548]\n",
            "  [2088 2277 2466 2655]\n",
            "  [2952 3222 3492 3762]]\n",
            "\n",
            " [[ 512  551  590  629]\n",
            "  [1736 1892 2048 2204]\n",
            "  [2960 3233 3506 3779]\n",
            "  [4184 4574 4964 5354]]\n",
            "\n",
            " [[ 664  715  766  817]\n",
            "  [2248 2452 2656 2860]\n",
            "  [3832 4189 4546 4903]\n",
            "  [5416 5926 6436 6946]]]\n"
          ]
        }
      ],
      "source": [
        "# Validate property 1\n",
        "Y1 = X.mode_n_product(A, mode=0, inplace=False) # Different modes\n",
        "Y1 = Y1.mode_n_product(B1, mode=1, inplace=False)\n",
        "Y2 = X.mode_n_product(B1, mode=1, inplace=False)\n",
        "Y2 = Y2.mode_n_product(A, mode=0, inplace=False)\n",
        "# Display results\n",
        "print(Y1)\n",
        "print(Y1.data)\n",
        "print(Y2)\n",
        "print(Y2.data)"
      ]
    },
    {
      "cell_type": "code",
      "execution_count": 102,
      "metadata": {
        "colab": {
          "base_uri": "https://localhost:8080/"
        },
        "id": "NW5T1ezwdQnm",
        "outputId": "5049f377-6425-444c-f761-1e6a1561d803"
      },
      "outputs": [
        {
          "output_type": "stream",
          "name": "stdout",
          "text": [
            "This tensor is of order 3 and consists of 36 elements.\n",
            "Sizes and names of its modes are (3, 3, 4) and ['mode-0', 'mode-1', 'mode-2'] respectively.\n",
            "[[[  840   970  1100  1230]\n",
            "  [ 1360  1490  1620  1750]\n",
            "  [ 1880  2010  2140  2270]]\n",
            "\n",
            " [[ 2340  2695  3050  3405]\n",
            "  [ 3760  4115  4470  4825]\n",
            "  [ 5180  5535  5890  6245]]\n",
            "\n",
            " [[ 3840  4420  5000  5580]\n",
            "  [ 6160  6740  7320  7900]\n",
            "  [ 8480  9060  9640 10220]]]\n",
            "This tensor is of order 3 and consists of 36 elements.\n",
            "Sizes and names of its modes are (3, 3, 4) and ['mode-0', 'mode-1', 'mode-2'] respectively.\n",
            "[[[  840   970  1100  1230]\n",
            "  [ 1360  1490  1620  1750]\n",
            "  [ 1880  2010  2140  2270]]\n",
            "\n",
            " [[ 2340  2695  3050  3405]\n",
            "  [ 3760  4115  4470  4825]\n",
            "  [ 5180  5535  5890  6245]]\n",
            "\n",
            " [[ 3840  4420  5000  5580]\n",
            "  [ 6160  6740  7320  7900]\n",
            "  [ 8480  9060  9640 10220]]]\n"
          ]
        }
      ],
      "source": [
        "# Validate property 2\n",
        "Y3 = X.mode_n_product(A, mode=0, inplace=False) # Different modes\n",
        "Y3 = Y3.mode_n_product(B2, mode=0, inplace=False)\n",
        "Y4 = X.mode_n_product(np.matmul(B2,A), mode=0, inplace=False)\n",
        "# Display results\n",
        "print(Y3)\n",
        "print(Y3.data)\n",
        "print(Y4)\n",
        "print(Y4.data)"
      ]
    },
    {
      "cell_type": "markdown",
      "metadata": {
        "toc-hr-collapsed": true,
        "id": "FAUISdQtdQnn"
      },
      "source": [
        "### Solution: Part 2\n",
        "\n",
        "Use [LaTeX syntax](https://stackoverflow.com/questions/13208286/how-to-write-latex-in-ipython-notebook) for analytical deriviations for the second property below.\n"
      ]
    },
    {
      "cell_type": "code",
      "execution_count": 105,
      "metadata": {
        "colab": {
          "base_uri": "https://localhost:8080/",
          "height": 350
        },
        "id": "zhK5xGdadQnn",
        "outputId": "a0f3d9e1-c67e-4ee8-fb43-43ef3ac5f08d"
      },
      "outputs": [
        {
          "output_type": "display_data",
          "data": {
            "text/plain": [
              "<IPython.core.display.Latex object>"
            ],
            "text/latex": "\nGiven a tensor $\\mathbf{\\underline{X}}$ with dimensions $d_{1} \\times d_{2} \\times \\ldots \\times d_{N}$\nand matrices $\\mathbf{A}$ of size $m \\times k$ and $\\mathbf{B}$ of size $p \\times m$,\nmode-n multiplications $\\mathbf{\\underline{X}} \\times_{n} \\mathbf{A} \\times_{n} \\mathbf{B}$ \nrequire $d_{n} = k$. This results in mode-n fibers first in dimension $m$ then $p$, \ngiven $\\mathbf{B}$'s compatibility in dimension $m$. The sequence\n$\\mathbf{\\underline{X}} \\times_{n} \\mathbf{B} \\times_{n} \\mathbf{A}$ is not feasible\ndue to dimension inconsistency, demonstrating non-commutativity when the same mode is involved.\n\nFor mode-n multiplication seen as linear transformations on mode-n fibers, the operations\nequate to a single mode-n multiplication by $\\mathbf{B}\\mathbf{A}$:\n\nFor a mode-n fiber $\\mathbf{x}_{d_{n}}$, the operations are:\n$$ \\mathbf{x}_{m} = \\mathbf{A}\\mathbf{x}_{d_{n}} $$\n$$ \\mathbf{x}_{p} = \\mathbf{B}\\mathbf{x}_{m} = \\mathbf{B}(\\mathbf{A}\\mathbf{x}_{d_{n}}) = (\\mathbf{B}\\mathbf{A})\\mathbf{x}_{d_{n}} $$\n\nHence, $\\mathbf{\\underline{X}} \\times_{n} (\\mathbf{B}\\mathbf{A})$ describes the transformation\n of mode-n fibers by $\\mathbf{B}\\mathbf{A}$.\n"
          },
          "metadata": {}
        }
      ],
      "source": [
        "%%latex\n",
        "\n",
        "Given a tensor $\\mathbf{\\underline{X}}$ with dimensions $d_{1} \\times d_{2} \\times \\ldots \\times d_{N}$\n",
        "and matrices $\\mathbf{A}$ of size $m \\times k$ and $\\mathbf{B}$ of size $p \\times m$,\n",
        "mode-n multiplications $\\mathbf{\\underline{X}} \\times_{n} \\mathbf{A} \\times_{n} \\mathbf{B}$\n",
        "require $d_{n} = k$. This results in mode-n fibers first in dimension $m$ then $p$,\n",
        "given $\\mathbf{B}$'s compatibility in dimension $m$. The sequence\n",
        "$\\mathbf{\\underline{X}} \\times_{n} \\mathbf{B} \\times_{n} \\mathbf{A}$ is not feasible\n",
        "due to dimension inconsistency, demonstrating non-commutativity when the same mode is involved.\n",
        "\n",
        "For mode-n multiplication seen as linear transformations on mode-n fibers, the operations\n",
        "equate to a single mode-n multiplication by $\\mathbf{B}\\mathbf{A}$:\n",
        "\n",
        "For a mode-n fiber $\\mathbf{x}_{d_{n}}$, the operations are:\n",
        "$$ \\mathbf{x}_{m} = \\mathbf{A}\\mathbf{x}_{d_{n}} $$\n",
        "$$ \\mathbf{x}_{p} = \\mathbf{B}\\mathbf{x}_{m} = \\mathbf{B}(\\mathbf{A}\\mathbf{x}_{d_{n}}) = (\\mathbf{B}\\mathbf{A})\\mathbf{x}_{d_{n}} $$\n",
        "\n",
        "Hence, $\\mathbf{\\underline{X}} \\times_{n} (\\mathbf{B}\\mathbf{A})$ describes the transformation\n",
        " of mode-n fibers by $\\mathbf{B}\\mathbf{A}$.\n"
      ]
    }
  ],
  "metadata": {
    "kernelspec": {
      "display_name": "dpm-coursework",
      "language": "python",
      "name": "dpm-coursework"
    },
    "language_info": {
      "codemirror_mode": {
        "name": "ipython",
        "version": 3
      },
      "file_extension": ".py",
      "mimetype": "text/x-python",
      "name": "python",
      "nbconvert_exporter": "python",
      "pygments_lexer": "ipython3",
      "version": "3.6.5"
    },
    "toc-autonumbering": false,
    "toc-showcode": false,
    "toc-showmarkdowntxt": false,
    "colab": {
      "provenance": [],
      "toc_visible": true
    }
  },
  "nbformat": 4,
  "nbformat_minor": 0
}